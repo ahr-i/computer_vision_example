{
 "cells": [
  {
   "cell_type": "markdown",
   "metadata": {},
   "source": [
    "## Import"
   ]
  },
  {
   "cell_type": "code",
   "execution_count": 10,
   "metadata": {},
   "outputs": [],
   "source": [
    "import cv2\n",
    "import numpy as np"
   ]
  },
  {
   "cell_type": "markdown",
   "metadata": {},
   "source": [
    "## Initialization"
   ]
  },
  {
   "cell_type": "code",
   "execution_count": 9,
   "metadata": {},
   "outputs": [],
   "source": [
    "middlebury = [\n",
    "    ('./middlebury-dataset/00/l.png', './middlebury-dataset/00/r.png'),\n",
    "    ('./middlebury-dataset/01/l.png', './middlebury-dataset/01/r.png'),\n",
    "    ('./middlebury-dataset/02/l.png', './middlebury-dataset/02/r.png'),\n",
    "    ('./middlebury-dataset/03/l.png', './middlebury-dataset/03/r.png'),\n",
    "    ('./middlebury-dataset/04/l.png', './middlebury-dataset/04/r.png'),\n",
    "    ('./middlebury-dataset/05/l.png', './middlebury-dataset/05/r.png'),\n",
    "    ('./middlebury-dataset/06/l.png', './middlebury-dataset/06/r.png'),\n",
    "    ('./middlebury-dataset/07/l.png', './middlebury-dataset/07/r.png'),\n",
    "    ('./middlebury-dataset/08/l.png', './middlebury-dataset/08/r.png'),\n",
    "    ('./middlebury-dataset/09/l.png', './middlebury-dataset/09/r.png')\n",
    "    ]"
   ]
  },
  {
   "cell_type": "code",
   "execution_count": 22,
   "metadata": {},
   "outputs": [],
   "source": [
    "real_world = [\n",
    "    ('real-world-dataset/01/l.jpg', 'real-world-dataset/01/r.jpg'),\n",
    "    ('real-world-dataset/04/l.jpg', 'real-world-dataset/04/r.jpg'),\n",
    "    ('real-world-dataset/06/l.jpg', 'real-world-dataset/06/r.jpg'),\n",
    "    ('real-world-dataset/07/l.jpg', 'real-world-dataset/07/r.jpg')\n",
    "]"
   ]
  },
  {
   "cell_type": "markdown",
   "metadata": {},
   "source": [
    "## Code"
   ]
  },
  {
   "cell_type": "code",
   "execution_count": 12,
   "metadata": {},
   "outputs": [],
   "source": [
    "def load_image_pairs(image_pairs):\n",
    "    loaded_pairs = []\n",
    "\n",
    "    for left_path, right_path in image_pairs:\n",
    "        left_image = cv2.imread(left_path, cv2.IMREAD_GRAYSCALE)\n",
    "        right_image = cv2.imread(right_path, cv2.IMREAD_GRAYSCALE)\n",
    "\n",
    "        if left_image is None or right_image is None:\n",
    "            continue\n",
    "        \n",
    "        loaded_pairs.append((left_image, right_image))\n",
    "\n",
    "    return loaded_pairs"
   ]
  },
  {
   "cell_type": "code",
   "execution_count": 25,
   "metadata": {},
   "outputs": [],
   "source": [
    "# ORB + BFMatcher -> SIFT + RANSAC\n",
    "def find_keypoints_and_matches(left_image, right_image):\n",
    "    # Using SIFT detector to find keypoints and descriptors.\n",
    "    sift = cv2.SIFT_create()\n",
    "    kp1, des1 = sift.detectAndCompute(left_image, None)\n",
    "    kp2, des2 = sift.detectAndCompute(right_image, None)\n",
    "\n",
    "    # Using FLANN-based matching.\n",
    "    FLANN_INDEX_KDTREE = 1\n",
    "    index_params = dict(algorithm=FLANN_INDEX_KDTREE, trees=5)\n",
    "    search_params = dict(checks=50)\n",
    "    flann = cv2.FlannBasedMatcher(index_params, search_params)\n",
    "    matches = flann.knnMatch(des1, des2, k=2)\n",
    "\n",
    "    # Filtering the matches.\n",
    "    good_matches = []\n",
    "    for m, n in matches:\n",
    "        if m.distance < 0.7 * n.distance:\n",
    "            good_matches.append(m)\n",
    "\n",
    "    return kp1, kp2, good_matches"
   ]
  },
  {
   "cell_type": "code",
   "execution_count": 14,
   "metadata": {},
   "outputs": [],
   "source": [
    "def compute_fundamental_matrix(kp1, kp2, matches):\n",
    "    if len(matches) < 8:\n",
    "        return None, None\n",
    "\n",
    "    pts1 = np.float32([kp1[m.queryIdx].pt for m in matches])\n",
    "    pts2 = np.float32([kp2[m.trainIdx].pt for m in matches])\n",
    "\n",
    "    # Calculating the Fundamental Matrix.\n",
    "    F, mask = cv2.findFundamentalMat(pts1, pts2, cv2.FM_RANSAC)\n",
    "\n",
    "    return F, mask"
   ]
  },
  {
   "cell_type": "markdown",
   "metadata": {},
   "source": [
    "## Main"
   ]
  },
  {
   "cell_type": "code",
   "execution_count": 26,
   "metadata": {},
   "outputs": [
    {
     "name": "stdout",
     "output_type": "stream",
     "text": [
      "Image Index 0:\n",
      "[[-2.37200370e-09 -2.94928719e-06  5.09925474e-03]\n",
      " [ 2.82272949e-06  1.00826348e-06  1.57589540e-01]\n",
      " [-4.97866084e-03 -1.58988791e-01  1.00000000e+00]]\n",
      "Image Index 1:\n",
      "[[-5.13598427e-08 -4.17883050e-05  1.04751045e-02]\n",
      " [ 3.97685481e-05  1.92095156e-06 -1.87642052e-01]\n",
      " [-9.80677753e-03  1.84395207e-01  1.00000000e+00]]\n",
      "Image Index 2:\n",
      "[[ 4.11307067e-08 -2.63575996e-05  3.80438294e-02]\n",
      " [ 2.63667572e-05 -3.01502088e-06  1.33715804e-01]\n",
      " [-3.78774670e-02 -1.30159924e-01  1.00000000e+00]]\n",
      "Image Index 3:\n",
      "[[ 2.84695609e-07  7.29223946e-05 -1.36077582e-01]\n",
      " [-5.92894442e-05  5.25557707e-06 -2.41491907e+00]\n",
      " [ 1.19803906e-01  2.39937298e+00  1.00000000e+00]]\n",
      "Image Index 4:\n",
      "[[-5.66839288e-08 -1.37677674e-04  3.33394744e-02]\n",
      " [ 1.38159158e-04 -1.78767733e-06 -3.74052672e-02]\n",
      " [-3.33874187e-02  3.36464189e-02  1.00000000e+00]]\n",
      "Image Index 5:\n",
      "[[-8.65630573e-08 -1.33249206e-04  9.37540983e-02]\n",
      " [ 1.33039549e-04 -9.57413277e-07  5.36865569e-02]\n",
      " [-9.35817003e-02 -5.43998296e-02  1.00000000e+00]]\n",
      "Image Index 6:\n",
      "[[-5.02436472e-08 -1.62588054e-04  7.68150914e-02]\n",
      " [ 1.61217112e-04 -3.50047020e-06  8.53176368e-01]\n",
      " [-7.64131264e-02 -8.53432328e-01  1.00000000e+00]]\n",
      "Image Index 7:\n",
      "[[ 8.72433643e-08 -6.56736784e-05  6.09608775e-02]\n",
      " [ 6.57629030e-05 -1.27546113e-06  1.16245290e-01]\n",
      " [-6.09403055e-02 -1.16237802e-01  1.00000000e+00]]\n",
      "Image Index 8:\n",
      "[[-2.12512500e-06 -5.22993151e-04  9.83143594e-02]\n",
      " [ 5.19973714e-04 -3.02078976e-05 -3.27600836e-01]\n",
      " [-9.60851912e-02  3.26743051e-01  1.00000000e+00]]\n",
      "Image Index 9:\n",
      "[[-8.90897291e-07 -2.88867277e-04  6.03688649e-02]\n",
      " [ 2.87705683e-04 -1.00084781e-05 -5.07433425e-01]\n",
      " [-5.82768065e-02  5.02137773e-01  1.00000000e+00]]\n"
     ]
    }
   ],
   "source": [
    "# Middlebury dataset\n",
    "middlebury_output = 'middlebury.txt'\n",
    "middlebury_pairs = load_image_pairs(middlebury)\n",
    "\n",
    "with open(middlebury_output, \"w\") as file:\n",
    "    for idx, (left_image, right_image) in enumerate(middlebury_pairs):\n",
    "        kp1, kp2, matches = find_keypoints_and_matches(left_image, right_image)\n",
    "        F, mask = compute_fundamental_matrix(kp1, kp2, matches)\n",
    "\n",
    "        if F is not None:\n",
    "            print(f\"Image Index {idx}:\")\n",
    "            print(F)\n",
    "            file.write(f\"Image Index {idx}:\\n\")\n",
    "            file.write(f\"{F}\\n\")\n",
    "        else:\n",
    "            print(f\"Image Index {idx}: Not enough matches to compute Fundamental Matrix\")"
   ]
  },
  {
   "cell_type": "code",
   "execution_count": 27,
   "metadata": {},
   "outputs": [
    {
     "name": "stdout",
     "output_type": "stream",
     "text": [
      "Image Index 0:\n",
      "[[ 1.50828804e-08 -6.43160878e-07  1.59408283e-03]\n",
      " [ 8.05516819e-07  5.93905824e-09  5.91664031e-03]\n",
      " [-1.88002353e-03 -6.43620986e-03  1.00000000e+00]]\n",
      "Image Index 1:\n",
      "[[-8.23790027e-09 -1.51370012e-07 -1.28390778e-03]\n",
      " [ 5.69367404e-08  7.36293100e-08 -1.36621256e-02]\n",
      " [ 1.16252283e-03  1.35850534e-02  1.00000000e+00]]\n",
      "Image Index 2:\n",
      "[[ 3.89965065e-07 -1.57647026e-05  4.39892041e-02]\n",
      " [ 1.35514473e-05 -7.73219349e-07 -1.11558530e-01]\n",
      " [-4.07202566e-02  1.13795279e-01  1.00000000e+00]]\n",
      "Image Index 3:\n",
      "[[ 4.61548423e-09  4.07757641e-07 -8.73019501e-04]\n",
      " [-3.13436932e-07 -1.40416651e-07  1.94810481e-02]\n",
      " [ 4.36728690e-04 -1.92834504e-02  1.00000000e+00]]\n",
      "Image Index 4:\n",
      "[[-2.10434638e-08 -1.52903188e-06  2.81066362e-03]\n",
      " [ 1.47854529e-06  8.34527524e-08  1.93296539e-02]\n",
      " [-2.90509077e-03 -1.94636963e-02  1.00000000e+00]]\n",
      "Image Index 5:\n",
      "[[ 1.67300647e-08 -1.24015504e-06  2.50651678e-03]\n",
      " [ 1.23781270e-06 -7.89665304e-08 -1.26722321e-02]\n",
      " [-2.74941041e-03  1.27372269e-02  1.00000000e+00]]\n",
      "Image Index 6:\n",
      "[[ 1.82339659e-08 -3.42642421e-06  4.50626989e-03]\n",
      " [ 3.44023960e-06 -3.12238740e-07 -2.98432408e-02]\n",
      " [-4.71154794e-03  2.97024445e-02  1.00000000e+00]]\n",
      "Image Index 7:\n",
      "[[ 2.77463545e-08 -1.99122509e-07  9.18447266e-04]\n",
      " [ 3.31699710e-07  5.00032768e-09  2.95857195e-03]\n",
      " [-1.15830126e-03 -3.38734107e-03  1.00000000e+00]]\n",
      "Image Index 8:\n",
      "[[ 5.90507625e-08  3.12713650e-06 -3.17091900e-03]\n",
      " [-2.74666227e-06  5.24146042e-08  3.70426797e-02]\n",
      " [ 2.02634811e-03 -3.73588643e-02  1.00000000e+00]]\n",
      "Image Index 9:\n",
      "[[ 1.87485327e-08  4.24203059e-08  1.28817250e-03]\n",
      " [ 3.48820061e-07 -7.96568644e-08  2.94573773e-02]\n",
      " [-2.24867327e-03 -2.96958191e-02  1.00000000e+00]]\n"
     ]
    }
   ],
   "source": [
    "# Real world dataset\n",
    "real_output = 'real_world.txt'\n",
    "real_pairs = load_image_pairs(real_world)\n",
    "\n",
    "with open(real_output, \"w\") as file:\n",
    "    for idx, (left_image, right_image) in enumerate(real_pairs):\n",
    "        kp1, kp2, matches = find_keypoints_and_matches(left_image, right_image)\n",
    "        F, mask = compute_fundamental_matrix(kp1, kp2, matches)\n",
    "\n",
    "        if F is not None:\n",
    "            print(f\"Image Index {idx}:\")\n",
    "            print(F)\n",
    "            file.write(f\"Image Index {idx}:\\n\")\n",
    "            file.write(f\"{F}\\n\")\n",
    "        else:\n",
    "            print(f\"Image Index {idx}: Not enough matches to compute Fundamental Matrix\")"
   ]
  }
 ],
 "metadata": {
  "kernelspec": {
   "display_name": "Python 3",
   "language": "python",
   "name": "python3"
  },
  "language_info": {
   "codemirror_mode": {
    "name": "ipython",
    "version": 3
   },
   "file_extension": ".py",
   "mimetype": "text/x-python",
   "name": "python",
   "nbconvert_exporter": "python",
   "pygments_lexer": "ipython3",
   "version": "3.10.11"
  }
 },
 "nbformat": 4,
 "nbformat_minor": 2
}

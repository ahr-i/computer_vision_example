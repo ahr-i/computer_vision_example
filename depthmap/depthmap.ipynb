{
 "cells": [
  {
   "cell_type": "markdown",
   "metadata": {},
   "source": [
    "## Import"
   ]
  },
  {
   "cell_type": "code",
   "execution_count": 81,
   "metadata": {},
   "outputs": [],
   "source": [
    "import cv2"
   ]
  },
  {
   "cell_type": "markdown",
   "metadata": {},
   "source": [
    "## Initialization"
   ]
  },
  {
   "cell_type": "code",
   "execution_count": 88,
   "metadata": {},
   "outputs": [],
   "source": [
    "dataset = [\n",
    "    (\"./dataset/00/l.png\", \"./dataset/00/r.png\"),\n",
    "    (\"./dataset/01/l.png\", \"./dataset/01/r.png\"),\n",
    "    (\"./dataset/02/l.png\", \"./dataset/02/r.png\"),\n",
    "    (\"./dataset/03/l.png\", \"./dataset/03/r.png\"),\n",
    "    (\"./dataset/04/l.png\", \"./dataset/04/r.png\"),\n",
    "    (\"./dataset/05/l.png\", \"./dataset/05/r.png\")\n",
    "]"
   ]
  },
  {
   "cell_type": "markdown",
   "metadata": {},
   "source": [
    "## Preprocessing"
   ]
  },
  {
   "cell_type": "code",
   "execution_count": 89,
   "metadata": {},
   "outputs": [],
   "source": [
    "def apply_preprocessing(image):\n",
    "    # Apply Gaussian Blur\n",
    "    blurred_image = cv2.GaussianBlur(image, (5, 5), 0)\n",
    "    # Apply Histogram Equalization\n",
    "    equalized_image = cv2.equalizeHist(blurred_image)\n",
    "    return equalized_image"
   ]
  },
  {
   "cell_type": "markdown",
   "metadata": {},
   "source": [
    "## Block Matching"
   ]
  },
  {
   "cell_type": "code",
   "execution_count": 97,
   "metadata": {},
   "outputs": [],
   "source": [
    "def compute_depth_map_bm(left_image, right_image):\n",
    "    # numDisparities must be a multiple of 16.\n",
    "    numDisparities = 128\n",
    "    blockSize = 21\n",
    "    \n",
    "    stereo = cv2.StereoBM_create(numDisparities=numDisparities, blockSize=blockSize)\n",
    "    disparity = stereo.compute(left_image, right_image)\n",
    "    \n",
    "    # Normalize depth map and convert to uint8\n",
    "    min_disparity = disparity.min()\n",
    "    max_disparity = disparity.max()\n",
    "    \n",
    "    if max_disparity - min_disparity > 0:\n",
    "        depth_map = cv2.normalize(disparity, disparity, alpha=0, beta=255, norm_type=cv2.NORM_MINMAX)\n",
    "    else:\n",
    "        depth_map = disparity\n",
    "    \n",
    "    depth_map = np.uint8(depth_map)\n",
    "    \n",
    "    # Apply color map\n",
    "    depth_map_colored = cv2.applyColorMap(depth_map, cv2.COLORMAP_JET)\n",
    "    \n",
    "    return depth_map_colored"
   ]
  },
  {
   "cell_type": "markdown",
   "metadata": {},
   "source": [
    "## Semi Global Matching"
   ]
  },
  {
   "cell_type": "code",
   "execution_count": 100,
   "metadata": {},
   "outputs": [],
   "source": [
    "def compute_depth_map_sgm(left_image, right_image):\n",
    "    # numDisparities must be a multiple of 16.\n",
    "    numDisparities = 128\n",
    "    blockSize = 5\n",
    "    stereo = cv2.StereoSGBM_create(minDisparity=0,\n",
    "                                   numDisparities=numDisparities,\n",
    "                                   blockSize=blockSize,\n",
    "                                   P1=8 * 3 * blockSize ** 2,\n",
    "                                   P2=32 * 3 * blockSize ** 2,\n",
    "                                   disp12MaxDiff=1,\n",
    "                                   uniquenessRatio=10,\n",
    "                                   speckleWindowSize=100,\n",
    "                                   speckleRange=32,\n",
    "                                   preFilterCap=63,\n",
    "                                   mode=cv2.STEREO_SGBM_MODE_SGBM_3WAY)\n",
    "    disparity = stereo.compute(left_image, right_image).astype(np.float32) / 16.0\n",
    "\n",
    "    # Normalize depth map and convert to uint8\n",
    "    min_disparity = disparity.min()\n",
    "    max_disparity = disparity.max()\n",
    "    \n",
    "    if max_disparity - min_disparity > 0:\n",
    "        depth_map = cv2.normalize(disparity, disparity, alpha=0, beta=255, norm_type=cv2.NORM_MINMAX)\n",
    "    else:\n",
    "        depth_map = disparity\n",
    "    \n",
    "    depth_map = np.uint8(depth_map)\n",
    "    \n",
    "    # Apply color map\n",
    "    depth_map_colored = cv2.applyColorMap(depth_map, cv2.COLORMAP_JET)\n",
    "    \n",
    "    return depth_map_colored"
   ]
  },
  {
   "cell_type": "markdown",
   "metadata": {},
   "source": [
    "## Main"
   ]
  },
  {
   "cell_type": "code",
   "execution_count": 98,
   "metadata": {},
   "outputs": [],
   "source": [
    "# Block Matching\n",
    "for idx, (left_image_path, right_image_path) in enumerate(dataset):\n",
    "    left_image = cv2.imread(left_image_path, cv2.IMREAD_GRAYSCALE)\n",
    "    right_image = cv2.imread(right_image_path, cv2.IMREAD_GRAYSCALE)\n",
    "    \n",
    "    left_image = apply_preprocessing(left_image)\n",
    "    right_image = apply_preprocessing(right_image)\n",
    "    \n",
    "    depth_map_bm = compute_depth_map_bm(left_image, right_image)\n",
    "    cv2.imwrite(f'./result/block_matching/{idx}.png', depth_map_bm)"
   ]
  },
  {
   "cell_type": "code",
   "execution_count": 101,
   "metadata": {},
   "outputs": [],
   "source": [
    "# Semi Global Matching\n",
    "for idx, (left_image_path, right_image_path) in enumerate(dataset):\n",
    "    left_image = cv2.imread(left_image_path, cv2.IMREAD_GRAYSCALE)\n",
    "    right_image = cv2.imread(right_image_path, cv2.IMREAD_GRAYSCALE)\n",
    "    \n",
    "    left_image = apply_preprocessing(left_image)\n",
    "    right_image = apply_preprocessing(right_image)\n",
    "    \n",
    "    depth_map_sgm = compute_depth_map_sgm(left_image, right_image)\n",
    "    cv2.imwrite(f'./result/semi_global_matching/{idx}.png', depth_map_sgm)"
   ]
  }
 ],
 "metadata": {
  "kernelspec": {
   "display_name": "Python 3",
   "language": "python",
   "name": "python3"
  },
  "language_info": {
   "codemirror_mode": {
    "name": "ipython",
    "version": 3
   },
   "file_extension": ".py",
   "mimetype": "text/x-python",
   "name": "python",
   "nbconvert_exporter": "python",
   "pygments_lexer": "ipython3",
   "version": "3.10.11"
  }
 },
 "nbformat": 4,
 "nbformat_minor": 2
}
